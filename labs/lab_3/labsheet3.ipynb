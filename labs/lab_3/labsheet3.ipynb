{
 "cells": [
  {
   "cell_type": "markdown",
   "metadata": {},
   "source": [
    "# Lab 3: Least Squares Method \n",
    "\n",
    "\n",
    "## Introduction\n",
    "In this lab we will introduce you to the least squares method which is used to reconstruct a line (i.e. find its parameters) from a series of points. \n",
    "\n",
    "This lab also serves as an introduction to the CW1: Unknown Signal, which will require you to extend the least squares method to non-linear applications.\n",
    "\n",
    "As always we'll begin by importing the necessary modules for the lab."
   ]
  },
  {
   "cell_type": "code",
   "execution_count": 2,
   "metadata": {},
   "outputs": [],
   "source": [
    "from __future__ import print_function # to avoid issues between Python 2 and 3 printing\n",
    "\n",
    "import numpy as np\n",
    "from skimage import data, io, color, transform, exposure\n",
    "from scipy import stats\n",
    "import matplotlib.pyplot as plt\n",
    "\n",
    "# show matplotlib figures inline\n",
    "%matplotlib inline"
   ]
  },
  {
   "cell_type": "code",
   "execution_count": 3,
   "metadata": {},
   "outputs": [],
   "source": [
    "# By default we set figures to be 6\"x4\" on a 110 dots per inch (DPI) screen \n",
    "# (adjust DPI if you have a high res screen!)\n",
    "plt.rc('figure', figsize=(6, 4), dpi=110)\n",
    "plt.rc('font', size=10)"
   ]
  },
  {
   "cell_type": "markdown",
   "metadata": {},
   "source": [
    "## 1.  Get some numbers\n",
    "\n",
    "We'll begin by generating a series of points from a given equation with noise applied.\n",
    "\n",
    "Generate a sequence of 10 numbers, using the following equation\n",
    "\n",
    "$$\n",
    "y_i=0.2+0.5x_i+e_i\n",
    "$$\n",
    "\n",
    "where $x_i$ is a *uniformly distributed* random number between 0 and 1 and $e_i$ is a *random* number from $\\mathcal{N}(\\mu = 0, \\sigma^2 = 0.01)$."
   ]
  },
  {
   "cell_type": "code",
   "execution_count": 4,
   "metadata": {},
   "outputs": [
    {
     "name": "stdout",
     "output_type": "stream",
     "text": [
      "[[0.40673428]\n",
      " [0.60909532]\n",
      " [0.27556949]\n",
      " [0.38576794]\n",
      " [0.0043506 ]\n",
      " [0.52657382]\n",
      " [0.3480373 ]\n",
      " [0.79527521]\n",
      " [0.66750197]\n",
      " [0.343933  ]]\n"
     ]
    }
   ],
   "source": [
    "# write your code here\n",
    "i = 10\n",
    "x = np.random.rand(i).reshape((i,1))\n",
    "e = np.random.normal(0, 0.1, i).reshape((i, 1))\n",
    "\n",
    "y = 0.2 + 0.5*x + e\n",
    "print(y)"
   ]
  },
  {
   "cell_type": "markdown",
   "metadata": {},
   "source": [
    "Generate a scatter plot of $y_i$ versus $x_i$."
   ]
  },
  {
   "cell_type": "code",
   "execution_count": 5,
   "metadata": {},
   "outputs": [
    {
     "data": {
      "image/png": "[encoded data removed]",
      "text/plain": [
       "<Figure size 660x440 with 1 Axes>"
      ]
     },
     "metadata": {
      "needs_background": "light"
     },
     "output_type": "display_data"
    }
   ],
   "source": [
    "# write your code here\n",
    "fig, ax = plt.subplots()\n",
    "ax.scatter(x, y)\n",
    "plt.show()"
   ]
  },
  {
   "cell_type": "markdown",
   "metadata": {},
   "source": [
    "## 2. Create a general function\n",
    "\n",
    "Change the above code to a function that receives the parameters $a$, $b$ and $n$ for the equation $y_i = a + b x_i + e_i$ and returns $n$ samples as shown in the previous exercise.  \n",
    "\n",
    "Use the code to generate 100 samples from the equation above and visualise them."
   ]
  },
  {
   "cell_type": "code",
   "execution_count": 6,
   "metadata": {},
   "outputs": [
    {
     "data": {
      "image/png": "[encoded data removed]",
      "text/plain": [
       "<Figure size 660x440 with 1 Axes>"
      ]
     },
     "metadata": {
      "needs_background": "light"
     },
     "output_type": "display_data"
    }
   ],
   "source": [
    "# write your code here\n",
    "def foo(a, b, n):\n",
    "    x = np.random.rand(n).reshape((n,1))\n",
    "    e = np.random.normal(0, 0.1, n).reshape((n, 1))\n",
    "\n",
    "    y = a + b*x + e\n",
    "    return x, y\n",
    "\n",
    "xs, ys = foo(0.2, 0.5, 100)\n",
    "\n",
    "fig, ax = plt.subplots()\n",
    "ax.scatter(xs, ys)\n",
    "plt.show()"
   ]
  },
  {
   "cell_type": "markdown",
   "metadata": {},
   "source": [
    "## 3. Least squares ##\n",
    "Using the sequences ${y_i}$ and ${x_i}$ from **2**, implement the matrix form of the least squares method to determine estimates of the parameters $a$ and $b$ (which we denote as $a'$ and $b'$) assuming that $y_i=a+bx_i$.\n",
    "\n",
    "**Hints**\n",
    "* The formula for the matrix form of least squares is given by: $A=(X^T.X)^{-1}.X^T.Y$ where $A=[a',b']$.\n",
    "* It is important that you keep track of the dimensions of your matrices, especially $X$. Remember that $X^T \\cdot X$ should give a 2x2 matrix.\n",
    "* Because of the equation being in the form of $y_i=a+bx_i$ the first column of X should be all 1s.\n",
    "* You don't need to use your code for matrix inverse and can instead use the function `np.linalg.inv`."
   ]
  },
  {
   "cell_type": "code",
   "execution_count": 20,
   "metadata": {},
   "outputs": [
    {
     "name": "stdout",
     "output_type": "stream",
     "text": [
      "[[1.         0.82647957]\n",
      " [1.         0.54539977]\n",
      " [1.         0.27612351]\n",
      " [1.         0.12816503]\n",
      " [1.         0.28599318]\n",
      " [1.         0.06209257]\n",
      " [1.         0.58580766]\n",
      " [1.         0.30544566]\n",
      " [1.         0.12867938]\n",
      " [1.         0.46666045]\n",
      " [1.         0.43213793]\n",
      " [1.         0.97457127]\n",
      " [1.         0.26443736]\n",
      " [1.         0.66853224]\n",
      " [1.         0.49827165]\n",
      " [1.         0.70016017]\n",
      " [1.         0.16986931]\n",
      " [1.         0.2337132 ]\n",
      " [1.         0.93005596]\n",
      " [1.         0.19278607]\n",
      " [1.         0.07421438]\n",
      " [1.         0.04500281]\n",
      " [1.         0.68970661]\n",
      " [1.         0.60153349]\n",
      " [1.         0.498334  ]\n",
      " [1.         0.36048295]\n",
      " [1.         0.93520094]\n",
      " [1.         0.92763697]\n",
      " [1.         0.77825479]\n",
      " [1.         0.1370994 ]\n",
      " [1.         0.23819707]\n",
      " [1.         0.69616546]\n",
      " [1.         0.39940101]\n",
      " [1.         0.52181488]\n",
      " [1.         0.3604504 ]\n",
      " [1.         0.87190148]\n",
      " [1.         0.99681654]\n",
      " [1.         0.63362496]\n",
      " [1.         0.16426557]\n",
      " [1.         0.71312395]\n",
      " [1.         0.89508503]\n",
      " [1.         0.32679603]\n",
      " [1.         0.70346778]\n",
      " [1.         0.26428857]\n",
      " [1.         0.49326847]\n",
      " [1.         0.56113367]\n",
      " [1.         0.15207681]\n",
      " [1.         0.47620806]\n",
      " [1.         0.69294347]\n",
      " [1.         0.7994604 ]\n",
      " [1.         0.65193914]\n",
      " [1.         0.63759748]\n",
      " [1.         0.33863248]\n",
      " [1.         0.61088682]\n",
      " [1.         0.6903857 ]\n",
      " [1.         0.3113187 ]\n",
      " [1.         0.03911778]\n",
      " [1.         0.21811508]\n",
      " [1.         0.22973435]\n",
      " [1.         0.60218808]\n",
      " [1.         0.2266494 ]\n",
      " [1.         0.58269422]\n",
      " [1.         0.28495495]\n",
      " [1.         0.49109657]\n",
      " [1.         0.68951531]\n",
      " [1.         0.10721501]\n",
      " [1.         0.73883943]\n",
      " [1.         0.33073061]\n",
      " [1.         0.61831341]\n",
      " [1.         0.78510317]\n",
      " [1.         0.49320401]\n",
      " [1.         0.16224709]\n",
      " [1.         0.70577251]\n",
      " [1.         0.42740071]\n",
      " [1.         0.65995564]\n",
      " [1.         0.67010016]\n",
      " [1.         0.15722623]\n",
      " [1.         0.97396142]\n",
      " [1.         0.2162114 ]\n",
      " [1.         0.83005272]\n",
      " [1.         0.11007918]\n",
      " [1.         0.94092512]\n",
      " [1.         0.64669393]\n",
      " [1.         0.10152731]\n",
      " [1.         0.15510284]\n",
      " [1.         0.53650762]\n",
      " [1.         0.36437877]\n",
      " [1.         0.89968396]\n",
      " [1.         0.08884335]\n",
      " [1.         0.92253403]\n",
      " [1.         0.48546292]\n",
      " [1.         0.51767131]\n",
      " [1.         0.94678776]\n",
      " [1.         0.07728525]\n",
      " [1.         0.26345022]\n",
      " [1.         0.37272197]\n",
      " [1.         0.55648678]\n",
      " [1.         0.82228109]\n",
      " [1.         0.69955954]\n",
      " [1.         0.46764132]]\n",
      "a = 0.17382025014936947\tb = 0.5018476707336111\n"
     ]
    }
   ],
   "source": [
    "# write your code here\n",
    "def least_squares(x, y):\n",
    "    ones = np.ones(x.shape)\n",
    "    xe = np.column_stack((ones, x))\n",
    "    print(xe)\n",
    "    v = np.linalg.inv(xe.T.dot(xe)).dot(xe.T).dot(y)\n",
    "    return v[:, 0]\n",
    "\n",
    "a1, b1 = least_squares(xs, ys)\n",
    "print(\"a = {}\\tb = {}\".format(a1, b1))\n"
   ]
  },
  {
   "cell_type": "markdown",
   "metadata": {},
   "source": [
    "### Why aren't the values of a and b the same as in the original equation?"
   ]
  },
  {
   "cell_type": "markdown",
   "metadata": {},
   "source": [
    "## 4. Line fitting and plotting\n",
    "\n",
    "Draw the line defined by the estimated values of $a'$ and $b'$ on top of the scatter plot generated in point **2**."
   ]
  },
  {
   "cell_type": "code",
   "execution_count": 8,
   "metadata": {},
   "outputs": [
    {
     "data": {
      "image/png": "[encoded data removed]",
      "text/plain": [
       "<Figure size 660x440 with 1 Axes>"
      ]
     },
     "metadata": {
      "needs_background": "light"
     },
     "output_type": "display_data"
    }
   ],
   "source": [
    "# write your code here\n",
    "xmin = xs.min()\n",
    "xmax = xs.max()\n",
    "ymin = a1 + b1 * xmin\n",
    "ymax = a1 + b1 * xmax\n",
    "\n",
    "fig, ax = plt.subplots()\n",
    "ax.scatter(xs, ys)\n",
    "ax.plot([xmin, xmax], [ymin, ymax], c=\"#FF5955\")\n",
    "plt.show()"
   ]
  },
  {
   "cell_type": "markdown",
   "metadata": {},
   "source": [
    "## 5. Outliers\n",
    "\n",
    "Add a few outliers to your data. For example, add the points $\\{(0.5, 5), (0.6, 5), (0.7, 5)\\}$ to the sampled sequences from **2**.\n",
    "\n",
    "Re-estimate the best line that fits the data after the addition of the outliers.\n",
    "\n",
    "Plot the best fit line before and after the outlier data, in a way similar to the figure below (including the colouring and the legend).\n",
    "\n",
    "\n",
    "### Hint\n",
    "* Both `plot` and `scatter` have an optional parameter label which allows you to label each series for the legend.\n",
    "* Both `plot` and `scatter` have an optional parameter c which can be passed a colour, e.g. `c='r'` will set the colour to red.\n",
    "* `ax.legend` will create a legend automatically as long as your series have been labelled.\n",
    "\n",
    "![Line fit](lineFit.jpg)"
   ]
  },
  {
   "cell_type": "code",
   "execution_count": 9,
   "metadata": {},
   "outputs": [
    {
     "data": {
      "image/png": "[encoded data removed]",
      "text/plain": [
       "<Figure size 660x440 with 1 Axes>"
      ]
     },
     "metadata": {
      "needs_background": "light"
     },
     "output_type": "display_data"
    }
   ],
   "source": [
    "# write your code here\n",
    "xo = np.array([0.5, 0.6, 0.7])\n",
    "yo = np.array([5., 5., 5.])\n",
    "xs1 = np.append(xs, xo.reshape(3,1), axis=0)\n",
    "ys1 = np.append(ys, yo.reshape(3,1), axis=0)\n",
    "\n",
    "ao, bo = least_squares(xs1, ys1)\n",
    "xomin = xs1.min()\n",
    "xomax = xs1.max()\n",
    "yomin = ao + bo*xomin\n",
    "yomax = ao + bo*xomax\n",
    "\n",
    "fig, ax = plt.subplots()\n",
    "ax.scatter(xs, ys, label=\"Data\")\n",
    "ax.scatter(xo, yo, marker=\"x\", label=\"Outliers\")\n",
    "ax.plot([xmin, xmax], [ymin, ymax], c=\"#FF5955\", label=\"Best Fit\")\n",
    "ax.plot([xomin, xomax], [yomin, yomax], c=\"#D7D7AF\", label=\"Best Fit with Outliers\")\n",
    "plt.show()"
   ]
  },
  {
   "cell_type": "markdown",
   "metadata": {},
   "source": [
    "## 6. Calculating the error\n",
    "\n",
    "We can now calculate the error in the predicted line using sum squared error (which is what least squares regression is minimising).\n",
    "\n",
    "Calculate the error of the best fit line and the best fit line with outliers.\n",
    "\n",
    "**Hint**\n",
    "* The sum squared error formula is $\\sum_i (\\hat{y}_i - y_i)^2$ where $\\hat{y}_i = a + bx_i$."
   ]
  },
  {
   "cell_type": "code",
   "execution_count": 10,
   "metadata": {
    "scrolled": true
   },
   "outputs": [
    {
     "name": "stdout",
     "output_type": "stream",
     "text": [
      "0.9991848774480386 60.37064127281177\n"
     ]
    }
   ],
   "source": [
    "# write your code here\n",
    "def square_error(y, yh):\n",
    "    return np.sum((y - yh)**2)\n",
    "\n",
    "yhat = a1 + b1*xs\n",
    "yohat = ao + bo*xs1\n",
    "\n",
    "print(square_error(ys, yhat), square_error(ys1, yohat))"
   ]
  },
  {
   "cell_type": "markdown",
   "metadata": {},
   "source": [
    "## 7. Moving to a non-linear system\n",
    "\n",
    "So far we have been using the least squares method only to find the line of best fit for linear equations, however it can be extended quite easily to certain non-linear lines.\n",
    "\n",
    "Adapting this method lies in the creation of the $X$ matrix. The matrix we construct has two columns, the first a column of ones and the second a column of x values. Note how each column represents a function applied to x: $x^0$, $x^1$.\n",
    "\n",
    "If we were instead given the function $y = a + be^x$ to apply the least squares method we can just modify how we define $X$: instead of the second column including $x^1$ we can insert $e^x$.\n",
    "\n",
    "Given the set of points below, calculate $a$ and $b$ assuming they fit an exponential curve.\n",
    "### Hint\n",
    "* `np.exp(new_x)` will define the new column to add."
   ]
  },
  {
   "cell_type": "code",
   "execution_count": 11,
   "metadata": {},
   "outputs": [
    {
     "name": "stdout",
     "output_type": "stream",
     "text": [
      "[0.39780844 1.10035113]\n"
     ]
    }
   ],
   "source": [
    "new_x = np.array([-5, -4, -2, -1.5, -0.5, 0.5, 0.75, 1, 1.3, 1.9, 2.1, 2.4, 2.8, 3, 3.2])\n",
    "new_y = np.array([0.407, 0.42, 0.549, 0.645, 1.07, 2.21, 2.73, 3.39, 4.44, 7.75, 9.38, 12.5, 18.5, 22.5, 27.4])\n",
    "\n",
    "# write your code here\n",
    "X = np.column_stack((np.ones(new_x.shape), np.exp(new_x)))\n",
    "A = np.linalg.inv(X.T.dot(X)).dot(X.T).dot(new_y)\n",
    "print(A)"
   ]
  },
  {
   "cell_type": "markdown",
   "metadata": {},
   "source": [
    "### Visualising the result\n",
    "We can now visualise the fitted line as a figure as before using `plot`. Due to the non-linear nature of the equation we can use `np.linspace(-5, 3.2, 100)` which returns 100 evenly spaced numbers in the interval between -5 and 3.2. \n",
    "\n",
    "Create a graph plotting both the original points and the fitted line as below:\n",
    "![Exp line fit](exp_line_fit.png)"
   ]
  },
  {
   "cell_type": "code",
   "execution_count": 19,
   "metadata": {},
   "outputs": [
    {
     "data": {
      "image/png": "[encoded data removed]",
      "text/plain": [
       "<Figure size 660x440 with 1 Axes>"
      ]
     },
     "metadata": {
      "needs_background": "light"
     },
     "output_type": "display_data"
    }
   ],
   "source": [
    "# write your code here\n",
    "new_xs = np.linspace(-5, 3.2, 10000)\n",
    "new_yh = A[0] + A[1] * np.exp(new_xs)\n",
    "plt.scatter(new_x, new_y)\n",
    "plt.plot(new_xs, new_yh, c=\"#FF5955\")\n",
    "plt.show()"
   ]
  },
  {
   "cell_type": "markdown",
   "metadata": {},
   "source": [
    "### What other types of functions can we extend this to?\n",
    "\n",
    "For example why can't we fit to the function $y=a \\cdot e^{bx}$?"
   ]
  }
 ],
 "metadata": {
  "kernelspec": {
   "display_name": "Python 3",
   "language": "python",
   "name": "python3"
  },
  "language_info": {
   "codemirror_mode": {
    "name": "ipython",
    "version": 3
   },
   "file_extension": ".py",
   "mimetype": "text/x-python",
   "name": "python",
   "nbconvert_exporter": "python",
   "pygments_lexer": "ipython3",
   "version": "3.8.5"
  }
 },
 "nbformat": 4,
 "nbformat_minor": 1
}
